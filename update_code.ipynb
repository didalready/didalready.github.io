{
 "cells": [
  {
   "cell_type": "code",
   "execution_count": 1,
   "id": "efed2ed5",
   "metadata": {},
   "outputs": [],
   "source": [
    "from bs4 import BeautifulSoup"
   ]
  },
  {
   "cell_type": "code",
   "execution_count": 2,
   "id": "6caec0d8",
   "metadata": {},
   "outputs": [],
   "source": [
    "counter = 0\n",
    "\n",
    "# Open the HTML file and parse it\n",
    "with open('asia/china/harbin2.html', 'r', encoding='utf-8') as f:\n",
    "    contents = f.read()\n",
    "    soup = BeautifulSoup(contents, 'html.parser')\n",
    "\n",
    "# Find all img tags and replace src links\n",
    "for img in soup.find_all('img'):\n",
    "    if img.get('src'):\n",
    "        counter += 1\n",
    "        img['src'] = f'images/harbin2_{counter}.JPG'\n",
    "\n",
    "# Write the modified HTML back to the file\n",
    "with open('asia/china/harbin2.html', 'w', encoding='utf-8') as f:\n",
    "    f.write(soup.prettify())"
   ]
  },
  {
   "cell_type": "code",
   "execution_count": 16,
   "id": "b4241237",
   "metadata": {},
   "outputs": [],
   "source": [
    "import subprocess\n",
    "import os\n",
    "\n",
    "# specify your directory\n",
    "dir_path = \"../../../../images\""
   ]
  },
  {
   "cell_type": "code",
   "execution_count": 17,
   "id": "98bd04cf",
   "metadata": {},
   "outputs": [],
   "source": [
    "# change to the directory\n",
    "os.chdir(dir_path)"
   ]
  },
  {
   "cell_type": "code",
   "execution_count": 18,
   "id": "e6e8d9eb",
   "metadata": {},
   "outputs": [],
   "source": [
    "# define your command\n",
    "cmd = 'for %a in (*.*) do ren \"%a\" \"dalian3_%a\"'"
   ]
  },
  {
   "cell_type": "code",
   "execution_count": 20,
   "id": "99c3d506",
   "metadata": {},
   "outputs": [
    {
     "data": {
      "text/plain": [
       "CompletedProcess(args='for %a in (*.*) do ren \"%a\" \"dalian3_%a\"', returncode=0)"
      ]
     },
     "execution_count": 20,
     "metadata": {},
     "output_type": "execute_result"
    }
   ],
   "source": [
    "# use subprocess to execute the command\n",
    "subprocess.run(cmd, shell=True)"
   ]
  }
 ],
 "metadata": {
  "kernelspec": {
   "display_name": "didalr",
   "language": "python",
   "name": "didalr"
  },
  "language_info": {
   "codemirror_mode": {
    "name": "ipython",
    "version": 3
   },
   "file_extension": ".py",
   "mimetype": "text/x-python",
   "name": "python",
   "nbconvert_exporter": "python",
   "pygments_lexer": "ipython3",
   "version": "3.9.6"
  }
 },
 "nbformat": 4,
 "nbformat_minor": 5
}
