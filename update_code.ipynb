{
 "cells": [
  {
   "cell_type": "code",
   "execution_count": 1,
   "id": "efed2ed5",
   "metadata": {},
   "outputs": [],
   "source": [
    "from bs4 import BeautifulSoup"
   ]
  },
  {
   "cell_type": "code",
   "execution_count": 14,
   "id": "6caec0d8",
   "metadata": {},
   "outputs": [],
   "source": [
    "counter = 0\n",
    "\n",
    "# Open the HTML file and parse it\n",
    "with open('asia/china/harbin2.html', 'r', encoding='utf-8') as f:\n",
    "    contents = f.read()\n",
    "    soup = BeautifulSoup(contents, 'html.parser')\n",
    "\n",
    "# Find all img tags and replace src links\n",
    "for img in soup.find_all('img'):\n",
    "    if img.get('src'):\n",
    "        counter += 1\n",
    "        img['src'] = f'images/harbin2_{counter}.JPG'\n",
    "\n",
    "# Write the modified HTML back to the file\n",
    "with open('asia/china/harbin2_test.html', 'w', encoding='utf-8') as f:\n",
    "    f.write(soup.prettify())"
   ]
  }
 ],
 "metadata": {
  "kernelspec": {
   "display_name": "didalr",
   "language": "python",
   "name": "didalr"
  },
  "language_info": {
   "codemirror_mode": {
    "name": "ipython",
    "version": 3
   },
   "file_extension": ".py",
   "mimetype": "text/x-python",
   "name": "python",
   "nbconvert_exporter": "python",
   "pygments_lexer": "ipython3",
   "version": "3.9.6"
  }
 },
 "nbformat": 4,
 "nbformat_minor": 5
}
